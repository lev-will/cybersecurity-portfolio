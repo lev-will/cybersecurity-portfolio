{
 "cells": [
  {
   "cell_type": "markdown",
   "id": "0a512275",
   "metadata": {},
   "source": [
    "# 🛡️ Python Login Checker\n",
    "\n",
    "This notebook demonstrates a basic Python function to evaluate login attempts based on user approval and time of login."
   ]
  },
  {
   "cell_type": "markdown",
   "id": "9d5b1be5",
   "metadata": {},
   "source": [
    "## ✅ Step 1: Define the login evaluation function"
   ]
  },
  {
   "cell_type": "code",
   "execution_count": null,
   "id": "f7440e00",
   "metadata": {},
   "outputs": [],
   "source": [
    "def evaluate_login(username, login_time_ok, approved_users):\n",
    "    if username in approved_users and login_time_ok:\n",
    "        return \"✅ Login approved: Access granted during organization hours.\"\n",
    "    elif username not in approved_users:\n",
    "        return \"❌ Login denied: Username not on approved list.\"\n",
    "    elif not login_time_ok:\n",
    "        return \"⚠️ Login denied: Attempt outside of organization hours.\""
   ]
  },
  {
   "cell_type": "markdown",
   "id": "f4419756",
   "metadata": {},
   "source": [
    "## 🧪 Step 2: Define approved users and run test cases"
   ]
  },
  {
   "cell_type": "code",
   "execution_count": null,
   "id": "b919ae37",
   "metadata": {},
   "outputs": [],
   "source": [
    "# Sample data for testing\n",
    "approved_list = [\"elarson\", \"bmoreno\", \"tshah\", \"sgilmore\", \"eraab\"]\n",
    "\n",
    "# Test cases\n",
    "print(evaluate_login(\"lwilliams\", True, approved_list))\n",
    "print(evaluate_login(\"sgilmore\", False, approved_list))\n",
    "print(evaluate_login(\"tshah\", True, approved_list))"
   ]
  },
  {
   "cell_type": "markdown",
   "id": "c5e5997a",
   "metadata": {},
   "source": [
    "## 📝 Summary\n",
    "- Combines conditional logic and list membership\n",
    "- Demonstrates use of `if`, `elif`, `and`, and `in`\n",
    "- Ideal for cybersecurity scenarios like login access control"
   ]
  }
 ],
 "metadata": {},
 "nbformat": 4,
 "nbformat_minor": 5
}
