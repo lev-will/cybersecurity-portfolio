{
 "cells": [
  {
   "cell_type": "markdown",
   "id": "a92c5aaf",
   "metadata": {},
   "source": [
    "# 🧪 Python Loop Lab: Control Flow Practice\n",
    "This notebook contains practice tasks involving `for` loops, `while` loops, `break` statements, and conditional logic using IP address filtering and ID generation.\n"
   ]
  },
  {
   "cell_type": "markdown",
   "id": "aa2ca797",
   "metadata": {},
   "source": [
    "## Task 1: Display Message Using `for` Loop"
   ]
  },
  {
   "cell_type": "code",
   "execution_count": null,
   "id": "c49cb480",
   "metadata": {},
   "outputs": [],
   "source": [
    "for i in range(3):\n",
    "    print(\"Connection could not be established.\")"
   ]
  },
  {
   "cell_type": "markdown",
   "id": "7c06d1ee",
   "metadata": {},
   "source": [
    "## Task 2: Loop Based on Variable Value"
   ]
  },
  {
   "cell_type": "code",
   "execution_count": null,
   "id": "c0fc0e4f",
   "metadata": {},
   "outputs": [],
   "source": [
    "connection_attempts = 4\n",
    "\n",
    "for i in range(connection_attempts):\n",
    "    print(\"Connection could not be established\")"
   ]
  },
  {
   "cell_type": "markdown",
   "id": "8dc40249",
   "metadata": {},
   "source": [
    "## Task 3: Repeat Until Limit with `while`"
   ]
  },
  {
   "cell_type": "code",
   "execution_count": null,
   "id": "74e758f3",
   "metadata": {},
   "outputs": [],
   "source": [
    "connection_attempts = 0\n",
    "\n",
    "while connection_attempts < 3:\n",
    "    print(\"Connection could not be established.\")\n",
    "    connection_attempts = connection_attempts + 1"
   ]
  },
  {
   "cell_type": "markdown",
   "id": "73936f5a",
   "metadata": {},
   "source": [
    "## Task 4: Print IP Addresses"
   ]
  },
  {
   "cell_type": "code",
   "execution_count": null,
   "id": "68b01a84",
   "metadata": {},
   "outputs": [],
   "source": [
    "ip_addresses = [\"192.168.142.245\", \"192.168.109.50\", \"192.168.86.232\", \"192.168.131.147\",\n",
    "                \"192.168.205.12\", \"192.168.200.48\"]\n",
    "\n",
    "for i in ip_addresses:\n",
    "    print(i)"
   ]
  },
  {
   "cell_type": "markdown",
   "id": "dfe0bfef",
   "metadata": {},
   "source": [
    "## Task 5: Basic IP Allow List Filtering"
   ]
  },
  {
   "cell_type": "code",
   "execution_count": null,
   "id": "24543c75",
   "metadata": {},
   "outputs": [],
   "source": [
    "allow_list = [\"192.168.243.140\", \"192.168.205.12\", \"192.168.151.162\", \"192.168.178.71\",\n",
    "              \"192.168.86.232\", \"192.168.3.24\", \"192.168.170.243\", \"192.168.119.173\"]\n",
    "\n",
    "ip_addresses = [\"192.168.142.245\", \"192.168.109.50\", \"192.168.86.232\", \"192.168.131.147\",\n",
    "                \"192.168.205.12\", \"192.168.200.48\"]\n",
    "\n",
    "for i in ip_addresses:\n",
    "    if i in allow_list:\n",
    "        print(\"IP address is allowed\")\n",
    "    else:\n",
    "        print(\"IP address is not allowed\")"
   ]
  },
  {
   "cell_type": "markdown",
   "id": "516bd3e2",
   "metadata": {},
   "source": [
    "## Task 6: Stop on Suspicious IP with `break`"
   ]
  },
  {
   "cell_type": "code",
   "execution_count": null,
   "id": "676bdb91",
   "metadata": {},
   "outputs": [],
   "source": [
    "allow_list = [\"192.168.243.140\", \"192.168.205.12\", \"192.168.151.162\", \"192.168.178.71\",\n",
    "              \"192.168.86.232\", \"192.168.3.24\", \"192.168.170.243\", \"192.168.119.173\"]\n",
    "\n",
    "ip_addresses = [\"192.168.142.245\", \"192.168.109.50\", \"192.168.86.232\", \"192.168.131.147\",\n",
    "                \"192.168.205.12\", \"192.168.200.48\"]\n",
    "\n",
    "for i in ip_addresses:\n",
    "    if i in allow_list:\n",
    "        print(\"IP address is allowed\")\n",
    "    else:\n",
    "        print(\"IP address is not allowed. Further investigation of login activity required\")\n",
    "        break"
   ]
  },
  {
   "cell_type": "markdown",
   "id": "d0e22dc7",
   "metadata": {},
   "source": [
    "## Task 7: Generate Employee IDs with `while`"
   ]
  },
  {
   "cell_type": "code",
   "execution_count": null,
   "id": "3f3ae386",
   "metadata": {},
   "outputs": [],
   "source": [
    "i = 5000\n",
    "\n",
    "while i <= 5150:\n",
    "    print(i)\n",
    "    i = i + 5"
   ]
  },
  {
   "cell_type": "markdown",
   "id": "2e87b6ab",
   "metadata": {},
   "source": [
    "## Task 8: Display Alert for Limited Remaining IDs"
   ]
  },
  {
   "cell_type": "code",
   "execution_count": null,
   "id": "03d264ee",
   "metadata": {},
   "outputs": [],
   "source": [
    "i = 5000\n",
    "\n",
    "while i <= 5150:\n",
    "    print(i)\n",
    "    if i == 5100:\n",
    "        print(\"Only 10 valid employee ids remaining\")\n",
    "    i = i + 5"
   ]
  }
 ],
 "metadata": {},
 "nbformat": 4,
 "nbformat_minor": 5
}
